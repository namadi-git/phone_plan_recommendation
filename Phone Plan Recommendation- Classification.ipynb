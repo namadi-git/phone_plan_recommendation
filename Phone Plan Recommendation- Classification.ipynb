{
 "cells": [
  {
   "cell_type": "markdown",
   "id": "f1d0df88",
   "metadata": {},
   "source": [
    "## Objective\n",
    "Mobile carrier Megaline has found out that many of their subscribers use legacy plans. They want to develop a model that would analyze subscribers' behavior and recommend one of Megaline's newer plans: Smart or Ultra.\n",
    "The objective of this project is to use existing data from users on the newer plan to develop a model that would recommend either the smart or ultra plan based on the user behaviours and usage."
   ]
  },
  {
   "cell_type": "code",
   "execution_count": 1,
   "id": "8efe7fc0",
   "metadata": {},
   "outputs": [],
   "source": [
    "#import libraries\n",
    "import pandas as pd\n",
    "import numpy as np\n",
    "import matplotlib.pyplot as plt\n",
    "import seaborn as sns\n",
    "sns.set()\n",
    "%matplotlib inline"
   ]
  },
  {
   "cell_type": "code",
   "execution_count": 2,
   "id": "07902769",
   "metadata": {},
   "outputs": [
    {
     "name": "stdout",
     "output_type": "stream",
     "text": [
      "Requirement already satisfied: scikit-learn in c:\\users\\nelso\\anaconda3\\lib\\site-packages (1.0.2)\n",
      "Requirement already satisfied: threadpoolctl>=2.0.0 in c:\\users\\nelso\\anaconda3\\lib\\site-packages (from scikit-learn) (2.1.0)\n",
      "Requirement already satisfied: numpy>=1.14.6 in c:\\users\\nelso\\anaconda3\\lib\\site-packages (from scikit-learn) (1.20.1)\n",
      "Requirement already satisfied: scipy>=1.1.0 in c:\\users\\nelso\\anaconda3\\lib\\site-packages (from scikit-learn) (1.6.2)\n",
      "Requirement already satisfied: joblib>=0.11 in c:\\users\\nelso\\anaconda3\\lib\\site-packages (from scikit-learn) (1.0.1)\n",
      "Note: you may need to restart the kernel to use updated packages.\n"
     ]
    }
   ],
   "source": [
    "pip install scikit-learn"
   ]
  },
  {
   "cell_type": "code",
   "execution_count": 3,
   "id": "25b9a5f0",
   "metadata": {},
   "outputs": [
    {
     "name": "stdout",
     "output_type": "stream",
     "text": [
      "1.0.2\n"
     ]
    }
   ],
   "source": [
    "import sklearn\n",
    "print(sklearn.__version__)"
   ]
  },
  {
   "cell_type": "code",
   "execution_count": 4,
   "id": "1ffcd0eb",
   "metadata": {},
   "outputs": [],
   "source": [
    "#import sklearn modules\n",
    "from sklearn.preprocessing import StandardScaler\n",
    "from sklearn.ensemble import RandomForestClassifier\n",
    "from sklearn.linear_model import LogisticRegression\n",
    "from sklearn.naive_bayes import GaussianNB\n",
    "from sklearn.dummy import DummyClassifier\n",
    "\n",
    "from sklearn.metrics import accuracy_score, f1_score\n",
    "from sklearn.metrics import ConfusionMatrixDisplay, confusion_matrix, classification_report\n",
    "from sklearn.metrics import precision_recall_curve, PrecisionRecallDisplay\n",
    "from sklearn.model_selection import train_test_split, learning_curve\n",
    "\n"
   ]
  },
  {
   "cell_type": "code",
   "execution_count": 5,
   "id": "5878bd64",
   "metadata": {},
   "outputs": [
    {
     "name": "stdout",
     "output_type": "stream",
     "text": [
      "1.0.2\n"
     ]
    }
   ],
   "source": [
    "print(sklearn.__version__)"
   ]
  },
  {
   "cell_type": "code",
   "execution_count": 6,
   "id": "f83d22aa",
   "metadata": {},
   "outputs": [],
   "source": [
    "#load data\n",
    "try:\n",
    "    df= pd.read_csv('users_behavior.csv')\n",
    "except:\n",
    "    df = pd.read_csv('/datasets/users_behavior.csv')"
   ]
  },
  {
   "cell_type": "markdown",
   "id": "ab4c3976",
   "metadata": {},
   "source": [
    "## Data check"
   ]
  },
  {
   "cell_type": "code",
   "execution_count": 7,
   "id": "4d94d21b",
   "metadata": {},
   "outputs": [
    {
     "name": "stdout",
     "output_type": "stream",
     "text": [
      "<class 'pandas.core.frame.DataFrame'>\n",
      "RangeIndex: 3214 entries, 0 to 3213\n",
      "Data columns (total 5 columns):\n",
      " #   Column    Non-Null Count  Dtype  \n",
      "---  ------    --------------  -----  \n",
      " 0   calls     3214 non-null   float64\n",
      " 1   minutes   3214 non-null   float64\n",
      " 2   messages  3214 non-null   float64\n",
      " 3   mb_used   3214 non-null   float64\n",
      " 4   is_ultra  3214 non-null   int64  \n",
      "dtypes: float64(4), int64(1)\n",
      "memory usage: 125.7 KB\n"
     ]
    }
   ],
   "source": [
    "#view data info\n",
    "df.info()"
   ]
  },
  {
   "cell_type": "code",
   "execution_count": 8,
   "id": "97f70e70",
   "metadata": {},
   "outputs": [
    {
     "data": {
      "text/html": [
       "<div>\n",
       "<style scoped>\n",
       "    .dataframe tbody tr th:only-of-type {\n",
       "        vertical-align: middle;\n",
       "    }\n",
       "\n",
       "    .dataframe tbody tr th {\n",
       "        vertical-align: top;\n",
       "    }\n",
       "\n",
       "    .dataframe thead th {\n",
       "        text-align: right;\n",
       "    }\n",
       "</style>\n",
       "<table border=\"1\" class=\"dataframe\">\n",
       "  <thead>\n",
       "    <tr style=\"text-align: right;\">\n",
       "      <th></th>\n",
       "      <th>calls</th>\n",
       "      <th>minutes</th>\n",
       "      <th>messages</th>\n",
       "      <th>mb_used</th>\n",
       "      <th>is_ultra</th>\n",
       "    </tr>\n",
       "  </thead>\n",
       "  <tbody>\n",
       "    <tr>\n",
       "      <th>count</th>\n",
       "      <td>3214.000000</td>\n",
       "      <td>3214.000000</td>\n",
       "      <td>3214.000000</td>\n",
       "      <td>3214.000000</td>\n",
       "      <td>3214.000000</td>\n",
       "    </tr>\n",
       "    <tr>\n",
       "      <th>mean</th>\n",
       "      <td>63.038892</td>\n",
       "      <td>438.208787</td>\n",
       "      <td>38.281269</td>\n",
       "      <td>17207.673836</td>\n",
       "      <td>0.306472</td>\n",
       "    </tr>\n",
       "    <tr>\n",
       "      <th>std</th>\n",
       "      <td>33.236368</td>\n",
       "      <td>234.569872</td>\n",
       "      <td>36.148326</td>\n",
       "      <td>7570.968246</td>\n",
       "      <td>0.461100</td>\n",
       "    </tr>\n",
       "    <tr>\n",
       "      <th>min</th>\n",
       "      <td>0.000000</td>\n",
       "      <td>0.000000</td>\n",
       "      <td>0.000000</td>\n",
       "      <td>0.000000</td>\n",
       "      <td>0.000000</td>\n",
       "    </tr>\n",
       "    <tr>\n",
       "      <th>25%</th>\n",
       "      <td>40.000000</td>\n",
       "      <td>274.575000</td>\n",
       "      <td>9.000000</td>\n",
       "      <td>12491.902500</td>\n",
       "      <td>0.000000</td>\n",
       "    </tr>\n",
       "    <tr>\n",
       "      <th>50%</th>\n",
       "      <td>62.000000</td>\n",
       "      <td>430.600000</td>\n",
       "      <td>30.000000</td>\n",
       "      <td>16943.235000</td>\n",
       "      <td>0.000000</td>\n",
       "    </tr>\n",
       "    <tr>\n",
       "      <th>75%</th>\n",
       "      <td>82.000000</td>\n",
       "      <td>571.927500</td>\n",
       "      <td>57.000000</td>\n",
       "      <td>21424.700000</td>\n",
       "      <td>1.000000</td>\n",
       "    </tr>\n",
       "    <tr>\n",
       "      <th>max</th>\n",
       "      <td>244.000000</td>\n",
       "      <td>1632.060000</td>\n",
       "      <td>224.000000</td>\n",
       "      <td>49745.730000</td>\n",
       "      <td>1.000000</td>\n",
       "    </tr>\n",
       "  </tbody>\n",
       "</table>\n",
       "</div>"
      ],
      "text/plain": [
       "             calls      minutes     messages       mb_used     is_ultra\n",
       "count  3214.000000  3214.000000  3214.000000   3214.000000  3214.000000\n",
       "mean     63.038892   438.208787    38.281269  17207.673836     0.306472\n",
       "std      33.236368   234.569872    36.148326   7570.968246     0.461100\n",
       "min       0.000000     0.000000     0.000000      0.000000     0.000000\n",
       "25%      40.000000   274.575000     9.000000  12491.902500     0.000000\n",
       "50%      62.000000   430.600000    30.000000  16943.235000     0.000000\n",
       "75%      82.000000   571.927500    57.000000  21424.700000     1.000000\n",
       "max     244.000000  1632.060000   224.000000  49745.730000     1.000000"
      ]
     },
     "execution_count": 8,
     "metadata": {},
     "output_type": "execute_result"
    }
   ],
   "source": [
    "df.describe()"
   ]
  },
  {
   "cell_type": "code",
   "execution_count": 9,
   "id": "7ffb9489",
   "metadata": {
    "scrolled": true
   },
   "outputs": [
    {
     "data": {
      "text/html": [
       "<div>\n",
       "<style scoped>\n",
       "    .dataframe tbody tr th:only-of-type {\n",
       "        vertical-align: middle;\n",
       "    }\n",
       "\n",
       "    .dataframe tbody tr th {\n",
       "        vertical-align: top;\n",
       "    }\n",
       "\n",
       "    .dataframe thead th {\n",
       "        text-align: right;\n",
       "    }\n",
       "</style>\n",
       "<table border=\"1\" class=\"dataframe\">\n",
       "  <thead>\n",
       "    <tr style=\"text-align: right;\">\n",
       "      <th></th>\n",
       "      <th>calls</th>\n",
       "      <th>minutes</th>\n",
       "      <th>messages</th>\n",
       "      <th>mb_used</th>\n",
       "      <th>is_ultra</th>\n",
       "    </tr>\n",
       "  </thead>\n",
       "  <tbody>\n",
       "    <tr>\n",
       "      <th>0</th>\n",
       "      <td>40.0</td>\n",
       "      <td>311.90</td>\n",
       "      <td>83.0</td>\n",
       "      <td>19915.42</td>\n",
       "      <td>0</td>\n",
       "    </tr>\n",
       "    <tr>\n",
       "      <th>1</th>\n",
       "      <td>85.0</td>\n",
       "      <td>516.75</td>\n",
       "      <td>56.0</td>\n",
       "      <td>22696.96</td>\n",
       "      <td>0</td>\n",
       "    </tr>\n",
       "    <tr>\n",
       "      <th>2</th>\n",
       "      <td>77.0</td>\n",
       "      <td>467.66</td>\n",
       "      <td>86.0</td>\n",
       "      <td>21060.45</td>\n",
       "      <td>0</td>\n",
       "    </tr>\n",
       "    <tr>\n",
       "      <th>3</th>\n",
       "      <td>106.0</td>\n",
       "      <td>745.53</td>\n",
       "      <td>81.0</td>\n",
       "      <td>8437.39</td>\n",
       "      <td>1</td>\n",
       "    </tr>\n",
       "    <tr>\n",
       "      <th>4</th>\n",
       "      <td>66.0</td>\n",
       "      <td>418.74</td>\n",
       "      <td>1.0</td>\n",
       "      <td>14502.75</td>\n",
       "      <td>0</td>\n",
       "    </tr>\n",
       "  </tbody>\n",
       "</table>\n",
       "</div>"
      ],
      "text/plain": [
       "   calls  minutes  messages   mb_used  is_ultra\n",
       "0   40.0   311.90      83.0  19915.42         0\n",
       "1   85.0   516.75      56.0  22696.96         0\n",
       "2   77.0   467.66      86.0  21060.45         0\n",
       "3  106.0   745.53      81.0   8437.39         1\n",
       "4   66.0   418.74       1.0  14502.75         0"
      ]
     },
     "execution_count": 9,
     "metadata": {},
     "output_type": "execute_result"
    }
   ],
   "source": [
    "df.head()"
   ]
  },
  {
   "cell_type": "code",
   "execution_count": 10,
   "id": "dec169d2",
   "metadata": {},
   "outputs": [
    {
     "data": {
      "text/plain": [
       "calls       0\n",
       "minutes     0\n",
       "messages    0\n",
       "mb_used     0\n",
       "is_ultra    0\n",
       "dtype: int64"
      ]
     },
     "execution_count": 10,
     "metadata": {},
     "output_type": "execute_result"
    }
   ],
   "source": [
    "#check for missing values\n",
    "df.isna().sum()"
   ]
  },
  {
   "cell_type": "code",
   "execution_count": 11,
   "id": "365ff8aa",
   "metadata": {},
   "outputs": [
    {
     "data": {
      "text/plain": [
       "0"
      ]
     },
     "execution_count": 11,
     "metadata": {},
     "output_type": "execute_result"
    }
   ],
   "source": [
    "#check for duplicates\n",
    "df.duplicated().sum()"
   ]
  },
  {
   "cell_type": "markdown",
   "id": "2a47ca0d",
   "metadata": {},
   "source": [
    "The data has been preprocessed in and cleaned, this was confirmed.\n",
    "  * The data has no missing value\n",
    "  * The right data are of the right type and expected values (no negative value)\n",
    "  * There are no duplicate rows\n",
    "  * The is_ultra column is used to identify the user's plan where 1 mean that the user uses ultra and 0 means the user uses Smart"
   ]
  },
  {
   "cell_type": "markdown",
   "id": "ae0fced7",
   "metadata": {},
   "source": [
    "### Split out Train, Validation and Test data for final model evaluation"
   ]
  },
  {
   "cell_type": "code",
   "execution_count": 12,
   "id": "206f28ca",
   "metadata": {},
   "outputs": [],
   "source": [
    "#set features and target \n",
    "y=df['is_ultra']\n",
    "X=df.drop(columns=['is_ultra'])"
   ]
  },
  {
   "cell_type": "code",
   "execution_count": 13,
   "id": "66dbfd36",
   "metadata": {},
   "outputs": [
    {
     "name": "stdout",
     "output_type": "stream",
     "text": [
      "The train set now contains 2184 rows representing 67% of the received data\n",
      "The valid set now contains 547 rows representing 17% of the received data\n",
      "The test set now contains 483 rows representing 15% of the received data\n"
     ]
    }
   ],
   "source": [
    "#split data into train and test data set\n",
    "X_train, X_test, y_train, y_test= train_test_split(X, y, \n",
    "                                                   test_size=0.15, \n",
    "                                                   random_state=47, \n",
    "                                                   shuffle=True)\n",
    "\n",
    "#split train data into train and validation data set\n",
    "X_train, X_val, y_train, y_val= train_test_split(X_train, y_train,\n",
    "                                                 test_size=0.20,\n",
    "                                                 random_state=47)\n",
    "\n",
    "\n",
    "print(f'The train set now contains {len(X_train)} rows representing {int(len(X_train)*100/len(df))}% of the received data') \n",
    "print(f'The valid set now contains {len(X_val)} rows representing {int(len(X_val)*100/len(df))}% of the received data')\n",
    "print(f'The test set now contains {len(X_test)} rows representing {int(len(X_test)*100/len(df))}% of the received data')"
   ]
  },
  {
   "cell_type": "code",
   "execution_count": 14,
   "id": "18d70228",
   "metadata": {},
   "outputs": [
    {
     "data": {
      "text/plain": [
       "0    69.368132\n",
       "1    30.631868\n",
       "Name: is_ultra, dtype: float64"
      ]
     },
     "execution_count": 14,
     "metadata": {},
     "output_type": "execute_result"
    }
   ],
   "source": [
    "#check for percentage class representation\n",
    "y_train.value_counts()*100/len(y_train)"
   ]
  },
  {
   "cell_type": "markdown",
   "id": "97de706f",
   "metadata": {},
   "source": [
    "Data was shuffled and 15% taken out for final test dataset. \n",
    "The remaining data set was was the training and validation dataset.\n",
    "The dataset is imbalanced as seen in the percentage of class representation"
   ]
  },
  {
   "cell_type": "markdown",
   "id": "2cd7520a",
   "metadata": {},
   "source": [
    "## Model Baseline"
   ]
  },
  {
   "cell_type": "code",
   "execution_count": 15,
   "id": "cb1a7eb9",
   "metadata": {},
   "outputs": [
    {
     "name": "stdout",
     "output_type": "stream",
     "text": [
      "Dummy model accuracy of 0.6892138939670932\n",
      "Dummy model an f score of 0.0\n"
     ]
    }
   ],
   "source": [
    "#train dummy  model on train dataset\n",
    "dummy_model= DummyClassifier( strategy='most_frequent', random_state=47)\n",
    "dummy_model.fit(X_train, y_train)\n",
    "\n",
    "#check dummy model performance on validation dataset\n",
    "dummy_accuracy= accuracy_score(y_val, dummy_model.predict(X_val))\n",
    "dummy_fscore= f1_score(y_val, dummy_model.predict(X_val))\n",
    "print(f'Dummy model accuracy of {dummy_accuracy}')\n",
    "print(f'Dummy model an f score of {dummy_fscore}')"
   ]
  },
  {
   "cell_type": "code",
   "execution_count": 16,
   "id": "49f19578",
   "metadata": {},
   "outputs": [
    {
     "data": {
      "image/png": "[encoded data removed]",
      "text/plain": [
       "<Figure size 432x288 with 2 Axes>"
      ]
     },
     "metadata": {
      "needs_background": "light"
     },
     "output_type": "display_data"
    }
   ],
   "source": [
    "cm = confusion_matrix(y_val,dummy_model.predict(X_val), labels=dummy_model.classes_)\n",
    "disp = ConfusionMatrixDisplay(confusion_matrix=cm, display_labels=dummy_model.classes_)\n",
    "disp.plot(cmap='Blues')\n",
    "plt.show()"
   ]
  },
  {
   "cell_type": "markdown",
   "id": "51650ef7",
   "metadata": {},
   "source": [
    "The dummy model has an accuracy of of 0.69. The dummy model establishes the lowest baseline for the model we build. It is a classifier model that makes predictions without trying to find patterns in the data. \n",
    "The strategy used in training the model is assigninng the most frequent class for all prediction. \n",
    "\n",
    "The dummy model predicts that all customers are on the Smart plan. The f1 score is a better scoring method to evaluate our model. The model get an f1 score of 0 because if it fails to classify any Ultra user correctly and TP=0.\n"
   ]
  },
  {
   "cell_type": "markdown",
   "id": "1d513bfa",
   "metadata": {},
   "source": [
    "## Build Model"
   ]
  },
  {
   "cell_type": "code",
   "execution_count": 17,
   "id": "a87d2ba1",
   "metadata": {},
   "outputs": [],
   "source": [
    "#standardize trainfeatures\n",
    "scaler = StandardScaler()\n",
    "scaled_features=scaler.fit_transform(X_train)\n",
    "X_train=pd.DataFrame(scaled_features, index=X_train.index, columns=X_train.columns)"
   ]
  },
  {
   "cell_type": "code",
   "execution_count": 18,
   "id": "f233230a",
   "metadata": {},
   "outputs": [],
   "source": [
    "#standardize val features\n",
    "scaled_val_features=scaler.transform(X_val)\n",
    "X_val=pd.DataFrame(scaled_val_features, index=X_val.index, columns=X_val.columns)"
   ]
  },
  {
   "cell_type": "code",
   "execution_count": 19,
   "id": "3a9e9455",
   "metadata": {},
   "outputs": [],
   "source": [
    "#standardize test features\n",
    "scaled_test_features=scaler.transform(X_test)\n",
    "X_test=pd.DataFrame(scaled_test_features, index=X_test.index, columns=X_test.columns)"
   ]
  },
  {
   "cell_type": "markdown",
   "id": "a167201d",
   "metadata": {},
   "source": [
    "The scaling processes equilibrate the orders of magnittude of the variables involved in the model. The magnitude of the variables is important in distance based algorithm like the logistics regression. \n",
    "\n",
    "While this is not a requirement for tree based algorithms it helps them converge faster and help in determining feature importance , not based on magnitude of the feature but true impact."
   ]
  },
  {
   "cell_type": "markdown",
   "id": "d5db1193",
   "metadata": {},
   "source": [
    "# Test ML Algorithms and select best model"
   ]
  },
  {
   "cell_type": "code",
   "execution_count": 20,
   "id": "3386de06",
   "metadata": {},
   "outputs": [],
   "source": [
    "#print out model score\n",
    "def model_score(best_model, X, y): \n",
    "    \"\"\"\n",
    "    This function takes a classfier model, the features and target data set as argument\n",
    "    This function print out the model hyper parameter and the f1 and accuracy score for the given dataset\n",
    "    \"\"\"\n",
    "    print('Model hyperparameter:', best_model)\n",
    "    print()\n",
    "    print('Model accuracy:', accuracy_score(y, best_model.predict(X)))\n",
    "    print()\n",
    "    print('F1_score:', f1_score(y, best_model.predict(X)))"
   ]
  },
  {
   "cell_type": "markdown",
   "id": "1be43cb7",
   "metadata": {},
   "source": [
    "### Random Forest Classifier"
   ]
  },
  {
   "cell_type": "code",
   "execution_count": 21,
   "id": "1512e9c8",
   "metadata": {},
   "outputs": [],
   "source": [
    "#tune RandomForest Classifier based onthe f1 score by looping through different hyperparameter values. \n",
    "#Select the model with the highest F1 score\n",
    "\n",
    "best_score=0\n",
    "rf_model= None\n",
    "\n",
    "for depth in [10,20,30,40]:\n",
    "    for est in [20,30,40]:\n",
    "        for leaf in [3,4]:\n",
    "            model=RandomForestClassifier(random_state=47, max_depth=depth, n_estimators=est, min_samples_leaf=leaf)\n",
    "            model.fit(X_train, y_train)\n",
    "            val_score= f1_score(y_val, model.predict(X_val))\n",
    "            if val_score>best_score:\n",
    "                best_score=val_score\n",
    "                rf_model=model\n",
    "\n",
    "                                \n"
   ]
  },
  {
   "cell_type": "code",
   "execution_count": 22,
   "id": "31a07e47",
   "metadata": {},
   "outputs": [
    {
     "name": "stdout",
     "output_type": "stream",
     "text": [
      "Model hyperparameter: RandomForestClassifier(max_depth=10, min_samples_leaf=3, n_estimators=30,\n",
      "                       random_state=47)\n",
      "\n",
      "Model accuracy: 0.8464351005484461\n",
      "\n",
      "F1_score: 0.7272727272727274\n"
     ]
    }
   ],
   "source": [
    "#randomforest validation score\n",
    "model_score(rf_model, X_val, y_val)"
   ]
  },
  {
   "cell_type": "markdown",
   "id": "48b18806",
   "metadata": {},
   "source": [
    "### Logistics Regression"
   ]
  },
  {
   "cell_type": "code",
   "execution_count": 23,
   "id": "88d9cd10",
   "metadata": {},
   "outputs": [],
   "source": [
    "#tune Logistics Regression Classifier based onthe f1 score by looping through different hyperparameter values. \n",
    "#Select the model with the highest F1 score\n",
    "\n",
    "best_score=0\n",
    "lr_model= None\n",
    "\n",
    "for itr in [5000,10000]:\n",
    "    for sol in ['lbfgs', 'sag']:\n",
    "        model=LogisticRegression(random_state=47, solver=sol, max_iter=itr)\n",
    "        model.fit(X_train, y_train)\n",
    "        val_score= f1_score(y_val, model.predict(X_val))\n",
    "        if val_score > best_score:\n",
    "            best_score= val_score\n",
    "            lr_model=model"
   ]
  },
  {
   "cell_type": "code",
   "execution_count": 24,
   "id": "38e10a71",
   "metadata": {},
   "outputs": [
    {
     "name": "stdout",
     "output_type": "stream",
     "text": [
      "Model hyperparameter: LogisticRegression(max_iter=5000, random_state=47)\n",
      "\n",
      "Model accuracy: 0.753199268738574\n",
      "\n",
      "F1_score: 0.3946188340807175\n"
     ]
    }
   ],
   "source": [
    "#LogisticRegression validation score\n",
    "model_score(lr_model, X_val, y_val)"
   ]
  },
  {
   "cell_type": "markdown",
   "id": "c1b44b44",
   "metadata": {},
   "source": [
    "### Naive Bayes"
   ]
  },
  {
   "cell_type": "code",
   "execution_count": 25,
   "id": "19f008c0",
   "metadata": {},
   "outputs": [
    {
     "data": {
      "text/plain": [
       "GaussianNB()"
      ]
     },
     "execution_count": 25,
     "metadata": {},
     "output_type": "execute_result"
    }
   ],
   "source": [
    "#initialize the classifer\n",
    "nb_model= GaussianNB()\n",
    "\n",
    "#train the model\n",
    "nb_model.fit(X_train, y_train)"
   ]
  },
  {
   "cell_type": "code",
   "execution_count": 26,
   "id": "adb782fa",
   "metadata": {},
   "outputs": [
    {
     "name": "stdout",
     "output_type": "stream",
     "text": [
      "Model hyperparameter: GaussianNB()\n",
      "\n",
      "Model accuracy: 0.7989031078610603\n",
      "\n",
      "F1_score: 0.6206896551724139\n"
     ]
    }
   ],
   "source": [
    "#Naive Bayes validation score\n",
    "model_score(nb_model, X_val, y_val)"
   ]
  },
  {
   "cell_type": "markdown",
   "id": "ac80efd0",
   "metadata": {},
   "source": [
    "Three model were created using the Naive bayes algorithm, LogisticRegression and RandomForest.\n",
    "They were tuned based on the F1 score of the validation set by looping through set hperparameter and selecting the best performing combination.\n",
    "\n",
    "The random forest model with hyperparameter RandomForestClassifier(max_depth=40, min_samples_leaf=2, n_estimators=40, random_state=47) is the best performing model with a validation f1 score of 0.67 and accuracy score of 0.83"
   ]
  },
  {
   "cell_type": "markdown",
   "id": "064598a4",
   "metadata": {},
   "source": [
    "## Final Model"
   ]
  },
  {
   "cell_type": "code",
   "execution_count": 27,
   "id": "017478cb",
   "metadata": {},
   "outputs": [],
   "source": [
    "#Test for overfitting and model learning curve on the test dataset"
   ]
  },
  {
   "cell_type": "code",
   "execution_count": 28,
   "id": "13cc3b56",
   "metadata": {},
   "outputs": [],
   "source": [
    "\n",
    "\n",
    "def draw_learning_curves(X, y, estimator, num_trainings):\n",
    "    \"\"\"\n",
    "    The function accepts the features, target, model and number of sampled training as argument\n",
    "    The model plot the learning curve of the model as number of samples increases for the training size\n",
    "    to check for over fitting and underfitting  and also to know if training the model on more data will improve model\n",
    "    performance\n",
    "    \n",
    "    Set scoring function based on use case\n",
    "    \"\"\"\n",
    "    \n",
    "   \n",
    "    train_sizes, train_scores, test_scores = learning_curve(\n",
    "        estimator, X, y, cv=None, n_jobs=1, scoring='f1_weighted',train_sizes=np.linspace(.1, 1.0, num_trainings))\n",
    "\n",
    "    train_scores_mean = np.mean(train_scores, axis=1)\n",
    "    train_scores_std = np.std(train_scores, axis=1)\n",
    "    test_scores_mean = np.mean(test_scores, axis=1)\n",
    "    test_scores_std = np.std(test_scores, axis=1)\n",
    "\n",
    "    plt.grid()\n",
    "\n",
    "    plt.title(\"Learning Curves\")\n",
    "    plt.xlabel(\"Training examples\")\n",
    "    plt.ylabel(\"Score\")\n",
    "\n",
    "    plt.plot(train_scores_mean, 'o-', color=\"g\",\n",
    "             label=\"Training score\")\n",
    "    plt.plot(test_scores_mean, 'o-', color=\"y\",\n",
    "             label=\"Cross-validation score\")\n",
    "\n",
    "\n",
    "    plt.legend(loc=\"best\")\n",
    "\n",
    "    plt.show()"
   ]
  },
  {
   "cell_type": "code",
   "execution_count": 29,
   "id": "ae260f48",
   "metadata": {},
   "outputs": [
    {
     "data": {
      "image/png": "[encoded data removed]",
      "text/plain": [
       "<Figure size 432x288 with 1 Axes>"
      ]
     },
     "metadata": {
      "needs_background": "light"
     },
     "output_type": "display_data"
    }
   ],
   "source": [
    "draw_learning_curves(X_train, y_train, rf_model, 15)"
   ]
  },
  {
   "cell_type": "markdown",
   "id": "e3703783",
   "metadata": {},
   "source": [
    "From the learning curve we see that the model slightly overfits the training set. However for our use case we will accept this performance.We also see that training the model with additional data might not improve the model's performance. "
   ]
  },
  {
   "cell_type": "code",
   "execution_count": 30,
   "id": "d8a7ec62",
   "metadata": {},
   "outputs": [
    {
     "name": "stdout",
     "output_type": "stream",
     "text": [
      "              precision    recall  f1-score   support\n",
      "\n",
      "           0       0.86      0.93      0.89       377\n",
      "           1       0.81      0.66      0.73       170\n",
      "\n",
      "    accuracy                           0.85       547\n",
      "   macro avg       0.83      0.79      0.81       547\n",
      "weighted avg       0.84      0.85      0.84       547\n",
      "\n"
     ]
    }
   ],
   "source": [
    "print(classification_report(y_val, rf_model.predict(X_val)))"
   ]
  },
  {
   "cell_type": "code",
   "execution_count": 31,
   "id": "84becf4c",
   "metadata": {},
   "outputs": [
    {
     "data": {
      "image/png": "[encoded data removed]",
      "text/plain": [
       "<Figure size 432x288 with 2 Axes>"
      ]
     },
     "metadata": {
      "needs_background": "light"
     },
     "output_type": "display_data"
    }
   ],
   "source": [
    "cm = confusion_matrix(y_val,rf_model.predict(X_val), labels=rf_model.classes_)\n",
    "disp = ConfusionMatrixDisplay(confusion_matrix=cm, display_labels=rf_model.classes_)\n",
    "disp.plot(cmap='Blues')\n",
    "plt.show()"
   ]
  },
  {
   "cell_type": "markdown",
   "id": "cd2074a9",
   "metadata": {},
   "source": [
    "The plot of the confusion matrix is consistent with the classsifaction report where we notice that the model classifies smart users better than it classifies ultra user. We should consider training the model on a dataset with more ultra user, this could improve model performance."
   ]
  },
  {
   "cell_type": "code",
   "execution_count": 32,
   "id": "48c5cf47",
   "metadata": {},
   "outputs": [],
   "source": [
    "def build_roc_auc(model, X_train, X_test, y_train, y_test):\n",
    "    '''\n",
    "    INPUT: This function takes the model, the feature and target data set it was trained on \n",
    "    and the data set the model is to be evaluated on\n",
    "    \n",
    "    OUTPUT:\n",
    "    auc - returns auc as a float\n",
    "    prints the roc curve\n",
    "    '''\n",
    "    import numpy as np\n",
    "    import matplotlib.pyplot as plt\n",
    "    from itertools import cycle\n",
    "    from sklearn.metrics import roc_curve, auc, roc_auc_score\n",
    "    from scipy import interp\n",
    "    \n",
    "    y_preds = model.fit(X_train, y_train).predict_proba(X_test)\n",
    "    # Compute ROC curve and ROC area for each class\n",
    "    fpr = dict()\n",
    "    tpr = dict()\n",
    "    roc_auc = dict()\n",
    "    for i in range(len(y_test)):\n",
    "        fpr[i], tpr[i], _ = roc_curve(y_test, y_preds[:, 1])\n",
    "        roc_auc[i] = auc(fpr[i], tpr[i])\n",
    "\n",
    "    # Compute micro-average ROC curve and ROC area\n",
    "    fpr[\"micro\"], tpr[\"micro\"], _ = roc_curve(y_test.ravel(), y_preds[:, 1].ravel())\n",
    "    roc_auc[\"micro\"] = auc(fpr[\"micro\"], tpr[\"micro\"])\n",
    "    \n",
    "    plt.plot(fpr[2], tpr[2], color='darkorange',\n",
    "             lw=2, label='ROC curve (area = %0.2f)' % roc_auc[2])\n",
    "    plt.plot([0, 1], [0, 1], color='navy', lw=2, linestyle='--')\n",
    "    plt.xlim([0.0, 1.0])\n",
    "    plt.ylim([0.0, 1.05])\n",
    "    plt.xlabel('False Positive Rate')\n",
    "    plt.ylabel('True Positive Rate')\n",
    "    plt.title('Receiver operating characteristic example')\n",
    "    plt.show()\n",
    "    \n",
    "    return roc_auc_score(y_test, np.round(y_preds[:, 1]))\n",
    "    "
   ]
  },
  {
   "cell_type": "markdown",
   "id": "b82b6391",
   "metadata": {},
   "source": [
    "<div class=\"alert alert-block alert-success\">\n",
    "<b>Reviewer's comment</b> <a class=\"tocSkip\"></a>\n",
    "\n",
    "Well done!\n",
    "</div>"
   ]
  },
  {
   "cell_type": "code",
   "execution_count": 33,
   "id": "fbc4728b",
   "metadata": {},
   "outputs": [
    {
     "data": {
      "image/png": "[encoded data removed]",
      "text/plain": [
       "<Figure size 432x288 with 1 Axes>"
      ]
     },
     "metadata": {
      "needs_background": "light"
     },
     "output_type": "display_data"
    },
    {
     "data": {
      "text/plain": [
       "0.7949290060851926"
      ]
     },
     "execution_count": 33,
     "metadata": {},
     "output_type": "execute_result"
    }
   ],
   "source": [
    "# Finding validation roc and auc for the random forest model    \n",
    "build_roc_auc(rf_model, X_train, X_val, y_train, y_val)"
   ]
  },
  {
   "cell_type": "markdown",
   "id": "5aae652e",
   "metadata": {},
   "source": [
    "To further evaluate how well our model perform in splitting the target classes (for binary classifiers) for all different threshold values use to split the we plot the ROC curve and calculate the area under the curve. \n",
    "\n",
    "We have a Validation ROC-AUC of is 0.795, while a good model would typically have a score between 0.8 and 1, our model is close and is acceptable for our use case."
   ]
  },
  {
   "cell_type": "markdown",
   "id": "bd4dc6c0",
   "metadata": {},
   "source": [
    "### Test data score"
   ]
  },
  {
   "cell_type": "code",
   "execution_count": 34,
   "id": "a821cb06",
   "metadata": {},
   "outputs": [
    {
     "name": "stdout",
     "output_type": "stream",
     "text": [
      "Model hyperparameter: RandomForestClassifier(max_depth=10, min_samples_leaf=3, n_estimators=30,\n",
      "                       random_state=47)\n",
      "\n",
      "Model accuracy: 0.8115942028985508\n",
      "\n",
      "F1_score: 0.6285714285714286\n"
     ]
    }
   ],
   "source": [
    "model_score(rf_model, X_test, y_test)"
   ]
  },
  {
   "cell_type": "code",
   "execution_count": 35,
   "id": "d07215e7",
   "metadata": {},
   "outputs": [
    {
     "data": {
      "image/png": "[encoded data removed]",
      "text/plain": [
       "<Figure size 432x288 with 1 Axes>"
      ]
     },
     "metadata": {
      "needs_background": "light"
     },
     "output_type": "display_data"
    },
    {
     "data": {
      "text/plain": [
       "0.7310576805820902"
      ]
     },
     "execution_count": 35,
     "metadata": {},
     "output_type": "execute_result"
    }
   ],
   "source": [
    "# Finding test roc and auc for the random forest model    \n",
    "build_roc_auc(rf_model, X_train, X_test, y_train, y_test)"
   ]
  },
  {
   "cell_type": "markdown",
   "id": "f7333ddd",
   "metadata": {},
   "source": [
    "We notice a drop in the AUC_ROC score to 0.73 for the test data. This shows that the model could be further improved as we want a score closer to 1 indicating a better split"
   ]
  },
  {
   "cell_type": "code",
   "execution_count": 36,
   "id": "b5aa151b",
   "metadata": {},
   "outputs": [
    {
     "data": {
      "image/png": "[encoded data removed]",
      "text/plain": [
       "<Figure size 432x288 with 1 Axes>"
      ]
     },
     "metadata": {
      "needs_background": "light"
     },
     "output_type": "display_data"
    }
   ],
   "source": [
    "#plot PrecisionRecall Curve\n",
    "PrecisionRecallDisplay.from_estimator(rf_model, X_test, y_test)\n",
    "plt.show()"
   ]
  },
  {
   "cell_type": "markdown",
   "id": "77607822",
   "metadata": {},
   "source": [
    "The precision recall curve showd the trade off between precision and recall at various thresholds used to split the data. Similar to the ROC curve we see that the model could be improved. We could adjust the threshold to prioritize either recall or precision but for our use case this isn't going to be done."
   ]
  },
  {
   "cell_type": "code",
   "execution_count": 37,
   "id": "901237c0",
   "metadata": {},
   "outputs": [
    {
     "name": "stdout",
     "output_type": "stream",
     "text": [
      "              precision    recall  f1-score   support\n",
      "\n",
      "           0       0.82      0.93      0.87       337\n",
      "           1       0.78      0.53      0.63       146\n",
      "\n",
      "    accuracy                           0.81       483\n",
      "   macro avg       0.80      0.73      0.75       483\n",
      "weighted avg       0.81      0.81      0.80       483\n",
      "\n"
     ]
    }
   ],
   "source": [
    "print(classification_report(y_test, rf_model.predict(X_test)))"
   ]
  },
  {
   "cell_type": "markdown",
   "id": "b661a207",
   "metadata": {},
   "source": [
    "Final random forest model test score has an accuracy of 0.81 and and F1 score of 0.63 peforming better than the threshold of 0.75% for accuracy set by the business and the baseline established by the dummy model. Overall the model performance was consistent with was seen in the validation set as the model classified the smart users better than the ultra users"
   ]
  },
  {
   "cell_type": "markdown",
   "id": "9c7f7ee5",
   "metadata": {},
   "source": [
    "## Conclusion:\n",
    "\n",
    "The data was clean and preprocessed, this was confirmed before futher analysis.The model will be evaluated using the accuracy_score.\n",
    "\n",
    "\n",
    "The data was split into train validation and test set using the test_train_split method.\n",
    "The dummy model had an accuracy of 0.69 and f1 score of 0 and established the lowest baseline for the model to be built.\n",
    "\n",
    "Features and Target dataset were created. The features were standardized for good practice, while this is only needed for distance based algorithms it is good practice for others also as it helps them converges faster and also in feature importance selection.\n",
    "\n",
    "We proceeded to build and tune several models by looping over set hyperparameter. The F1 score was uses as the scoring method and the best hyperparameter with the best F1 score was selected for each algorithm (RandomForest, Naive Bayes, LogisticRegression). The data is imbalance as such accuracy is poor estimate of the model performace for classifaction. The F1 score would be a better scoring method to assess the model performace. \n",
    "\n",
    "The random forest model with hyperparameter RandomForestClassifier(max_depth=40, min_samples_leaf=2, n_estimators=40, random_state=47) is the best performing model with a validation f1 score of 0.67 and accuracy score of 0.83\n",
    "\n",
    "The model was further analyzed to check for overfitting. We noticed that the model slightly overfits the data but it is acceptable for our use case. we also noticed that the model performed better for the smart user class than the ultra user class. This could be because it was had more training on the smart user since it had more data and the opposite for ultra user.\n",
    "\n",
    "Finally the validated model was evaluated on the test dataset to get the final test scores. The random forest model test score has an accuracy of 0.81 and and F1 score of 0.63 peforming better than the threshold of 0.75% for accuracy set by the business and the baseline established by the dummy model.\n",
    "\n",
    "\n"
   ]
  },
  {
   "cell_type": "code",
   "execution_count": null,
   "id": "44d24e4e",
   "metadata": {},
   "outputs": [],
   "source": []
  }
 ],
 "metadata": {
  "ExecuteTimeLog": [
   {
    "duration": 1790,
    "start_time": "2022-04-02T07:59:23.752Z"
   },
   {
    "duration": 479,
    "start_time": "2022-04-02T07:59:25.545Z"
   },
   {
    "duration": 281,
    "start_time": "2022-04-02T07:59:26.026Z"
   },
   {
    "duration": 0,
    "start_time": "2022-04-02T07:59:26.310Z"
   },
   {
    "duration": 0,
    "start_time": "2022-04-02T07:59:26.311Z"
   },
   {
    "duration": 0,
    "start_time": "2022-04-02T07:59:26.313Z"
   },
   {
    "duration": 0,
    "start_time": "2022-04-02T07:59:26.314Z"
   },
   {
    "duration": 0,
    "start_time": "2022-04-02T07:59:26.316Z"
   },
   {
    "duration": 0,
    "start_time": "2022-04-02T07:59:26.317Z"
   },
   {
    "duration": 0,
    "start_time": "2022-04-02T07:59:26.319Z"
   },
   {
    "duration": 0,
    "start_time": "2022-04-02T07:59:26.320Z"
   },
   {
    "duration": 0,
    "start_time": "2022-04-02T07:59:26.323Z"
   },
   {
    "duration": 0,
    "start_time": "2022-04-02T07:59:26.325Z"
   },
   {
    "duration": 0,
    "start_time": "2022-04-02T07:59:26.326Z"
   },
   {
    "duration": 0,
    "start_time": "2022-04-02T07:59:26.328Z"
   },
   {
    "duration": 0,
    "start_time": "2022-04-02T07:59:26.329Z"
   },
   {
    "duration": 0,
    "start_time": "2022-04-02T07:59:26.331Z"
   },
   {
    "duration": 0,
    "start_time": "2022-04-02T07:59:26.332Z"
   },
   {
    "duration": 1583,
    "start_time": "2022-04-02T08:00:30.146Z"
   },
   {
    "duration": 495,
    "start_time": "2022-04-02T08:00:31.732Z"
   },
   {
    "duration": 80,
    "start_time": "2022-04-02T08:00:32.229Z"
   },
   {
    "duration": 18,
    "start_time": "2022-04-02T08:00:32.311Z"
   },
   {
    "duration": 48,
    "start_time": "2022-04-02T08:00:32.334Z"
   },
   {
    "duration": 15,
    "start_time": "2022-04-02T08:00:32.384Z"
   },
   {
    "duration": 10,
    "start_time": "2022-04-02T08:00:32.402Z"
   },
   {
    "duration": 16,
    "start_time": "2022-04-02T08:00:32.414Z"
   },
   {
    "duration": 109,
    "start_time": "2022-04-02T08:00:32.433Z"
   },
   {
    "duration": 0,
    "start_time": "2022-04-02T08:00:32.544Z"
   },
   {
    "duration": 0,
    "start_time": "2022-04-02T08:00:32.546Z"
   },
   {
    "duration": 0,
    "start_time": "2022-04-02T08:00:32.548Z"
   },
   {
    "duration": 0,
    "start_time": "2022-04-02T08:00:32.549Z"
   },
   {
    "duration": 1,
    "start_time": "2022-04-02T08:00:32.550Z"
   },
   {
    "duration": 0,
    "start_time": "2022-04-02T08:00:32.552Z"
   },
   {
    "duration": 0,
    "start_time": "2022-04-02T08:00:32.553Z"
   },
   {
    "duration": 0,
    "start_time": "2022-04-02T08:00:32.555Z"
   },
   {
    "duration": 0,
    "start_time": "2022-04-02T08:00:32.556Z"
   },
   {
    "duration": 101,
    "start_time": "2022-04-02T08:00:48.103Z"
   },
   {
    "duration": 7,
    "start_time": "2022-04-02T08:01:03.359Z"
   },
   {
    "duration": 5,
    "start_time": "2022-04-02T08:01:15.155Z"
   },
   {
    "duration": 7,
    "start_time": "2022-04-02T08:01:16.209Z"
   },
   {
    "duration": 1611,
    "start_time": "2022-04-02T08:04:14.114Z"
   },
   {
    "duration": 483,
    "start_time": "2022-04-02T08:04:15.728Z"
   },
   {
    "duration": 71,
    "start_time": "2022-04-02T08:04:16.213Z"
   },
   {
    "duration": 17,
    "start_time": "2022-04-02T08:04:16.286Z"
   },
   {
    "duration": 39,
    "start_time": "2022-04-02T08:04:16.306Z"
   },
   {
    "duration": 13,
    "start_time": "2022-04-02T08:04:16.347Z"
   },
   {
    "duration": 6,
    "start_time": "2022-04-02T08:04:16.385Z"
   },
   {
    "duration": 15,
    "start_time": "2022-04-02T08:04:16.394Z"
   },
   {
    "duration": 7,
    "start_time": "2022-04-02T08:04:16.412Z"
   },
   {
    "duration": 16,
    "start_time": "2022-04-02T08:04:16.421Z"
   },
   {
    "duration": 13,
    "start_time": "2022-04-02T08:04:16.440Z"
   },
   {
    "duration": 30,
    "start_time": "2022-04-02T08:04:16.455Z"
   },
   {
    "duration": 6,
    "start_time": "2022-04-02T08:04:16.488Z"
   },
   {
    "duration": 213,
    "start_time": "2022-04-02T08:04:16.498Z"
   },
   {
    "duration": 23,
    "start_time": "2022-04-02T08:04:16.713Z"
   },
   {
    "duration": 16,
    "start_time": "2022-04-02T08:04:16.738Z"
   },
   {
    "duration": 10,
    "start_time": "2022-04-02T08:04:16.785Z"
   },
   {
    "duration": 23,
    "start_time": "2022-04-02T08:04:16.797Z"
   },
   {
    "duration": 1692,
    "start_time": "2022-04-02T21:19:08.882Z"
   },
   {
    "duration": 599,
    "start_time": "2022-04-02T21:21:27.230Z"
   },
   {
    "duration": 12,
    "start_time": "2022-04-02T21:21:42.709Z"
   },
   {
    "duration": 13,
    "start_time": "2022-04-02T21:21:50.946Z"
   },
   {
    "duration": 6,
    "start_time": "2022-04-02T21:22:14.439Z"
   },
   {
    "duration": 6,
    "start_time": "2022-04-02T21:23:27.269Z"
   },
   {
    "duration": 5,
    "start_time": "2022-04-02T21:23:27.441Z"
   },
   {
    "duration": 140,
    "start_time": "2022-04-02T21:23:29.543Z"
   },
   {
    "duration": 17,
    "start_time": "2022-04-02T21:23:45.425Z"
   },
   {
    "duration": 6,
    "start_time": "2022-04-02T21:24:29.670Z"
   },
   {
    "duration": 5,
    "start_time": "2022-04-02T21:24:30.125Z"
   },
   {
    "duration": 90,
    "start_time": "2022-04-02T21:24:30.415Z"
   },
   {
    "duration": 16,
    "start_time": "2022-04-02T21:24:31.494Z"
   },
   {
    "duration": 16,
    "start_time": "2022-04-02T21:25:39.848Z"
   },
   {
    "duration": 13,
    "start_time": "2022-04-02T21:25:59.395Z"
   },
   {
    "duration": 8,
    "start_time": "2022-04-02T21:26:06.211Z"
   },
   {
    "duration": 5,
    "start_time": "2022-04-02T21:28:47.953Z"
   },
   {
    "duration": 90,
    "start_time": "2022-04-02T21:28:52.099Z"
   },
   {
    "duration": 18,
    "start_time": "2022-04-02T21:37:27.716Z"
   },
   {
    "duration": 9,
    "start_time": "2022-04-02T21:37:35.025Z"
   },
   {
    "duration": 5,
    "start_time": "2022-04-02T21:41:36.480Z"
   },
   {
    "duration": 12,
    "start_time": "2022-04-02T21:45:57.804Z"
   },
   {
    "duration": 13,
    "start_time": "2022-04-02T21:47:11.052Z"
   },
   {
    "duration": 5,
    "start_time": "2022-04-02T21:48:00.472Z"
   },
   {
    "duration": 9,
    "start_time": "2022-04-02T21:48:00.600Z"
   },
   {
    "duration": 137,
    "start_time": "2022-04-02T21:52:51.688Z"
   },
   {
    "duration": 12,
    "start_time": "2022-04-02T21:53:18.074Z"
   },
   {
    "duration": 13,
    "start_time": "2022-04-02T21:54:32.413Z"
   },
   {
    "duration": 12,
    "start_time": "2022-04-02T21:55:40.770Z"
   },
   {
    "duration": 14,
    "start_time": "2022-04-02T21:56:47.478Z"
   },
   {
    "duration": 7,
    "start_time": "2022-04-02T21:56:54.113Z"
   },
   {
    "duration": 13,
    "start_time": "2022-04-02T21:58:30.408Z"
   },
   {
    "duration": 8,
    "start_time": "2022-04-02T21:58:54.956Z"
   },
   {
    "duration": 8,
    "start_time": "2022-04-02T21:59:04.146Z"
   },
   {
    "duration": 18,
    "start_time": "2022-04-02T21:59:46.789Z"
   },
   {
    "duration": 7,
    "start_time": "2022-04-02T21:59:59.223Z"
   },
   {
    "duration": 7,
    "start_time": "2022-04-02T22:02:29.120Z"
   },
   {
    "duration": 8,
    "start_time": "2022-04-02T22:05:43.444Z"
   },
   {
    "duration": 13,
    "start_time": "2022-04-02T22:10:22.806Z"
   },
   {
    "duration": 11,
    "start_time": "2022-04-02T22:16:55.581Z"
   },
   {
    "duration": 11,
    "start_time": "2022-04-02T22:34:25.596Z"
   },
   {
    "duration": 5,
    "start_time": "2022-04-02T22:35:50.821Z"
   },
   {
    "duration": 244,
    "start_time": "2022-04-02T22:37:32.474Z"
   },
   {
    "duration": 20,
    "start_time": "2022-04-02T22:38:12.737Z"
   },
   {
    "duration": 211,
    "start_time": "2022-04-02T22:38:19.188Z"
   },
   {
    "duration": 290,
    "start_time": "2022-04-02T22:38:28.894Z"
   },
   {
    "duration": 215,
    "start_time": "2022-04-02T22:40:43.179Z"
   },
   {
    "duration": 10,
    "start_time": "2022-04-02T22:41:13.761Z"
   },
   {
    "duration": 219,
    "start_time": "2022-04-02T22:41:21.859Z"
   },
   {
    "duration": 209,
    "start_time": "2022-04-02T22:42:16.228Z"
   },
   {
    "duration": 10,
    "start_time": "2022-04-02T22:57:26.548Z"
   },
   {
    "duration": 221,
    "start_time": "2022-04-02T22:57:26.666Z"
   },
   {
    "duration": 2070,
    "start_time": "2022-04-02T23:38:16.303Z"
   },
   {
    "duration": 6,
    "start_time": "2022-04-02T23:38:30.752Z"
   },
   {
    "duration": 7,
    "start_time": "2022-04-02T23:38:51.760Z"
   },
   {
    "duration": 5366,
    "start_time": "2022-04-02T23:41:25.254Z"
   },
   {
    "duration": 5,
    "start_time": "2022-04-02T23:41:32.244Z"
   },
   {
    "duration": 7,
    "start_time": "2022-04-02T23:41:33.219Z"
   },
   {
    "duration": 2070,
    "start_time": "2022-04-02T23:41:45.545Z"
   },
   {
    "duration": 6,
    "start_time": "2022-04-02T23:41:47.618Z"
   },
   {
    "duration": 5,
    "start_time": "2022-04-02T23:45:32.284Z"
   },
   {
    "duration": 5,
    "start_time": "2022-04-02T23:46:39.484Z"
   },
   {
    "duration": 35,
    "start_time": "2022-04-02T23:49:18.946Z"
   },
   {
    "duration": 32,
    "start_time": "2022-04-02T23:49:37.542Z"
   },
   {
    "duration": 39,
    "start_time": "2022-04-02T23:49:44.889Z"
   },
   {
    "duration": 2098,
    "start_time": "2022-04-02T23:52:01.050Z"
   },
   {
    "duration": 5,
    "start_time": "2022-04-02T23:53:21.520Z"
   },
   {
    "duration": 5,
    "start_time": "2022-04-02T23:55:17.259Z"
   },
   {
    "duration": 33,
    "start_time": "2022-04-02T23:55:48.976Z"
   },
   {
    "duration": 32,
    "start_time": "2022-04-02T23:56:27.510Z"
   },
   {
    "duration": 369,
    "start_time": "2022-04-03T00:04:21.200Z"
   },
   {
    "duration": 1566,
    "start_time": "2022-04-03T00:04:48.069Z"
   },
   {
    "duration": 1779,
    "start_time": "2022-04-03T00:05:06.743Z"
   },
   {
    "duration": 17,
    "start_time": "2022-04-03T00:05:36.214Z"
   },
   {
    "duration": 3,
    "start_time": "2022-04-03T00:05:56.045Z"
   },
   {
    "duration": 2105,
    "start_time": "2022-04-03T00:06:15.441Z"
   },
   {
    "duration": 4,
    "start_time": "2022-04-03T00:06:17.548Z"
   },
   {
    "duration": 1953,
    "start_time": "2022-04-03T00:06:36.114Z"
   },
   {
    "duration": 5,
    "start_time": "2022-04-03T00:06:38.070Z"
   },
   {
    "duration": 13,
    "start_time": "2022-04-03T00:06:49.669Z"
   },
   {
    "duration": 1965,
    "start_time": "2022-04-03T00:07:27.574Z"
   },
   {
    "duration": 5,
    "start_time": "2022-04-03T00:07:29.542Z"
   },
   {
    "duration": 1410,
    "start_time": "2022-04-03T00:07:41.134Z"
   },
   {
    "duration": 6,
    "start_time": "2022-04-03T00:07:44.082Z"
   },
   {
    "duration": 14,
    "start_time": "2022-04-03T00:07:47.527Z"
   },
   {
    "duration": 1505,
    "start_time": "2022-04-03T00:08:07.353Z"
   },
   {
    "duration": 0,
    "start_time": "2022-04-03T00:08:08.860Z"
   },
   {
    "duration": 1391,
    "start_time": "2022-04-03T00:08:56.370Z"
   },
   {
    "duration": 1348,
    "start_time": "2022-04-03T00:09:56.988Z"
   },
   {
    "duration": 6,
    "start_time": "2022-04-03T00:09:58.488Z"
   },
   {
    "duration": 13,
    "start_time": "2022-04-03T00:09:59.454Z"
   },
   {
    "duration": 14,
    "start_time": "2022-04-03T00:10:43.808Z"
   },
   {
    "duration": 9,
    "start_time": "2022-04-03T00:13:32.179Z"
   },
   {
    "duration": 13,
    "start_time": "2022-04-03T00:14:01.575Z"
   },
   {
    "duration": 26,
    "start_time": "2022-04-03T00:23:41.200Z"
   },
   {
    "duration": 5,
    "start_time": "2022-04-03T00:24:27.031Z"
   },
   {
    "duration": 12,
    "start_time": "2022-04-03T00:24:27.415Z"
   },
   {
    "duration": 5,
    "start_time": "2022-04-03T00:25:33.109Z"
   },
   {
    "duration": 5,
    "start_time": "2022-04-03T00:25:58.726Z"
   },
   {
    "duration": 6,
    "start_time": "2022-04-03T00:25:58.737Z"
   },
   {
    "duration": 103,
    "start_time": "2022-04-03T00:25:58.746Z"
   },
   {
    "duration": 14,
    "start_time": "2022-04-03T00:25:58.851Z"
   },
   {
    "duration": 32,
    "start_time": "2022-04-03T00:25:58.868Z"
   },
   {
    "duration": 13,
    "start_time": "2022-04-03T00:25:58.903Z"
   },
   {
    "duration": 8,
    "start_time": "2022-04-03T00:25:58.918Z"
   },
   {
    "duration": 8,
    "start_time": "2022-04-03T00:25:58.928Z"
   },
   {
    "duration": 4,
    "start_time": "2022-04-03T00:25:58.938Z"
   },
   {
    "duration": 43,
    "start_time": "2022-04-03T00:25:58.944Z"
   },
   {
    "duration": 9,
    "start_time": "2022-04-03T00:25:58.991Z"
   },
   {
    "duration": 5,
    "start_time": "2022-04-03T00:25:59.002Z"
   },
   {
    "duration": 13,
    "start_time": "2022-04-03T00:25:59.009Z"
   },
   {
    "duration": 271,
    "start_time": "2022-04-03T00:25:59.024Z"
   },
   {
    "duration": 10,
    "start_time": "2022-04-03T00:25:59.298Z"
   },
   {
    "duration": 2063,
    "start_time": "2022-04-03T00:26:05.412Z"
   },
   {
    "duration": 5,
    "start_time": "2022-04-03T00:26:14.721Z"
   },
   {
    "duration": 19,
    "start_time": "2022-04-03T00:26:16.911Z"
   },
   {
    "duration": 55,
    "start_time": "2022-04-03T00:26:47.185Z"
   },
   {
    "duration": 13,
    "start_time": "2022-04-03T00:26:48.215Z"
   },
   {
    "duration": 11,
    "start_time": "2022-04-03T00:27:06.699Z"
   },
   {
    "duration": 14,
    "start_time": "2022-04-03T00:27:08.153Z"
   },
   {
    "duration": 5,
    "start_time": "2022-04-03T00:28:06.795Z"
   },
   {
    "duration": 19,
    "start_time": "2022-04-03T00:28:07.282Z"
   },
   {
    "duration": 57,
    "start_time": "2022-04-03T00:28:09.067Z"
   },
   {
    "duration": 14,
    "start_time": "2022-04-03T00:28:09.298Z"
   },
   {
    "duration": 10,
    "start_time": "2022-04-03T00:28:11.361Z"
   },
   {
    "duration": 14,
    "start_time": "2022-04-03T00:28:13.213Z"
   },
   {
    "duration": 23,
    "start_time": "2022-04-03T00:29:11.922Z"
   },
   {
    "duration": 19,
    "start_time": "2022-04-03T00:29:51.295Z"
   },
   {
    "duration": 19,
    "start_time": "2022-04-03T00:30:18.930Z"
   },
   {
    "duration": 1452,
    "start_time": "2022-04-03T00:31:25.615Z"
   },
   {
    "duration": 450,
    "start_time": "2022-04-03T00:31:27.070Z"
   },
   {
    "duration": 90,
    "start_time": "2022-04-03T00:31:27.522Z"
   },
   {
    "duration": 17,
    "start_time": "2022-04-03T00:31:27.615Z"
   },
   {
    "duration": 35,
    "start_time": "2022-04-03T00:31:27.634Z"
   },
   {
    "duration": 13,
    "start_time": "2022-04-03T00:31:27.671Z"
   },
   {
    "duration": 9,
    "start_time": "2022-04-03T00:31:27.686Z"
   },
   {
    "duration": 8,
    "start_time": "2022-04-03T00:31:27.697Z"
   },
   {
    "duration": 4,
    "start_time": "2022-04-03T00:31:27.707Z"
   },
   {
    "duration": 12,
    "start_time": "2022-04-03T00:31:27.715Z"
   },
   {
    "duration": 54,
    "start_time": "2022-04-03T00:31:27.729Z"
   },
   {
    "duration": 3,
    "start_time": "2022-04-03T00:31:27.786Z"
   },
   {
    "duration": 11,
    "start_time": "2022-04-03T00:31:27.791Z"
   },
   {
    "duration": 262,
    "start_time": "2022-04-03T00:31:27.805Z"
   },
   {
    "duration": 17,
    "start_time": "2022-04-03T00:31:28.070Z"
   },
   {
    "duration": 2112,
    "start_time": "2022-04-03T00:31:28.090Z"
   },
   {
    "duration": 7,
    "start_time": "2022-04-03T00:31:30.204Z"
   },
   {
    "duration": 23,
    "start_time": "2022-04-03T00:31:30.214Z"
   },
   {
    "duration": 88,
    "start_time": "2022-04-03T00:31:30.240Z"
   },
   {
    "duration": 15,
    "start_time": "2022-04-03T00:31:30.330Z"
   },
   {
    "duration": 13,
    "start_time": "2022-04-03T00:31:30.348Z"
   },
   {
    "duration": 15,
    "start_time": "2022-04-03T00:31:30.383Z"
   },
   {
    "duration": 27,
    "start_time": "2022-04-03T00:31:30.400Z"
   },
   {
    "duration": 54,
    "start_time": "2022-04-03T00:31:30.429Z"
   },
   {
    "duration": 153,
    "start_time": "2022-04-03T00:31:30.486Z"
   },
   {
    "duration": 0,
    "start_time": "2022-04-03T00:31:30.641Z"
   },
   {
    "duration": 0,
    "start_time": "2022-04-03T00:31:30.643Z"
   },
   {
    "duration": 0,
    "start_time": "2022-04-03T00:31:30.645Z"
   },
   {
    "duration": 0,
    "start_time": "2022-04-03T00:31:30.647Z"
   },
   {
    "duration": 0,
    "start_time": "2022-04-03T00:31:30.648Z"
   },
   {
    "duration": 1,
    "start_time": "2022-04-03T00:31:30.649Z"
   },
   {
    "duration": 1405,
    "start_time": "2022-04-03T00:34:05.757Z"
   },
   {
    "duration": 455,
    "start_time": "2022-04-03T00:34:07.165Z"
   },
   {
    "duration": 79,
    "start_time": "2022-04-03T00:34:07.622Z"
   },
   {
    "duration": 17,
    "start_time": "2022-04-03T00:34:07.704Z"
   },
   {
    "duration": 42,
    "start_time": "2022-04-03T00:34:07.723Z"
   },
   {
    "duration": 17,
    "start_time": "2022-04-03T00:34:07.767Z"
   },
   {
    "duration": 11,
    "start_time": "2022-04-03T00:34:07.786Z"
   },
   {
    "duration": 11,
    "start_time": "2022-04-03T00:34:07.799Z"
   },
   {
    "duration": 5,
    "start_time": "2022-04-03T00:34:07.812Z"
   },
   {
    "duration": 10,
    "start_time": "2022-04-03T00:34:07.821Z"
   },
   {
    "duration": 50,
    "start_time": "2022-04-03T00:34:07.833Z"
   },
   {
    "duration": 3,
    "start_time": "2022-04-03T00:34:07.886Z"
   },
   {
    "duration": 10,
    "start_time": "2022-04-03T00:34:07.892Z"
   },
   {
    "duration": 251,
    "start_time": "2022-04-03T00:34:07.904Z"
   },
   {
    "duration": 10,
    "start_time": "2022-04-03T00:34:08.157Z"
   },
   {
    "duration": 2091,
    "start_time": "2022-04-03T00:34:08.182Z"
   },
   {
    "duration": 10,
    "start_time": "2022-04-03T00:34:10.275Z"
   },
   {
    "duration": 26,
    "start_time": "2022-04-03T00:34:10.287Z"
   },
   {
    "duration": 67,
    "start_time": "2022-04-03T00:34:10.315Z"
   },
   {
    "duration": 13,
    "start_time": "2022-04-03T00:34:10.384Z"
   },
   {
    "duration": 9,
    "start_time": "2022-04-03T00:34:10.399Z"
   },
   {
    "duration": 12,
    "start_time": "2022-04-03T00:34:10.410Z"
   },
   {
    "duration": 58,
    "start_time": "2022-04-03T00:34:10.424Z"
   },
   {
    "duration": 21,
    "start_time": "2022-04-03T00:34:10.484Z"
   },
   {
    "duration": 175,
    "start_time": "2022-04-03T00:34:10.507Z"
   },
   {
    "duration": 0,
    "start_time": "2022-04-03T00:34:10.684Z"
   },
   {
    "duration": 0,
    "start_time": "2022-04-03T00:34:10.686Z"
   },
   {
    "duration": 0,
    "start_time": "2022-04-03T00:34:10.689Z"
   },
   {
    "duration": 0,
    "start_time": "2022-04-03T00:34:10.691Z"
   },
   {
    "duration": 0,
    "start_time": "2022-04-03T00:34:10.693Z"
   },
   {
    "duration": 0,
    "start_time": "2022-04-03T00:34:10.696Z"
   },
   {
    "duration": 1497,
    "start_time": "2022-04-03T00:34:38.843Z"
   },
   {
    "duration": 454,
    "start_time": "2022-04-03T00:34:41.263Z"
   },
   {
    "duration": 88,
    "start_time": "2022-04-03T00:34:42.443Z"
   },
   {
    "duration": 15,
    "start_time": "2022-04-03T00:34:55.216Z"
   },
   {
    "duration": 35,
    "start_time": "2022-04-03T00:34:56.551Z"
   },
   {
    "duration": 13,
    "start_time": "2022-04-03T00:34:57.823Z"
   },
   {
    "duration": 9,
    "start_time": "2022-04-03T00:34:58.877Z"
   },
   {
    "duration": 9,
    "start_time": "2022-04-03T00:34:59.797Z"
   },
   {
    "duration": 5,
    "start_time": "2022-04-03T00:35:02.132Z"
   },
   {
    "duration": 12,
    "start_time": "2022-04-03T00:35:02.822Z"
   },
   {
    "duration": 12,
    "start_time": "2022-04-03T00:35:03.370Z"
   },
   {
    "duration": 3,
    "start_time": "2022-04-03T00:35:07.161Z"
   },
   {
    "duration": 9,
    "start_time": "2022-04-03T00:35:07.918Z"
   },
   {
    "duration": 225,
    "start_time": "2022-04-03T00:35:08.770Z"
   },
   {
    "duration": 10,
    "start_time": "2022-04-03T00:35:12.630Z"
   },
   {
    "duration": 2045,
    "start_time": "2022-04-03T00:35:15.766Z"
   },
   {
    "duration": 6,
    "start_time": "2022-04-03T00:35:38.909Z"
   },
   {
    "duration": 1464,
    "start_time": "2022-04-03T03:05:51.562Z"
   },
   {
    "duration": 378,
    "start_time": "2022-04-03T03:05:53.029Z"
   },
   {
    "duration": 85,
    "start_time": "2022-04-03T03:05:53.409Z"
   },
   {
    "duration": 12,
    "start_time": "2022-04-03T03:05:53.497Z"
   },
   {
    "duration": 30,
    "start_time": "2022-04-03T03:05:53.511Z"
   },
   {
    "duration": 10,
    "start_time": "2022-04-03T03:05:53.542Z"
   },
   {
    "duration": 10,
    "start_time": "2022-04-03T03:05:53.554Z"
   },
   {
    "duration": 7,
    "start_time": "2022-04-03T03:05:53.565Z"
   },
   {
    "duration": 29,
    "start_time": "2022-04-03T03:05:53.573Z"
   },
   {
    "duration": 9,
    "start_time": "2022-04-03T03:05:53.605Z"
   },
   {
    "duration": 10,
    "start_time": "2022-04-03T03:05:53.616Z"
   },
   {
    "duration": 4,
    "start_time": "2022-04-03T03:05:53.628Z"
   },
   {
    "duration": 10,
    "start_time": "2022-04-03T03:05:53.633Z"
   },
   {
    "duration": 190,
    "start_time": "2022-04-03T03:05:53.645Z"
   },
   {
    "duration": 8,
    "start_time": "2022-04-03T03:05:53.837Z"
   },
   {
    "duration": 13,
    "start_time": "2022-04-03T03:05:53.847Z"
   },
   {
    "duration": 2921,
    "start_time": "2022-04-03T03:05:53.862Z"
   },
   {
    "duration": 4,
    "start_time": "2022-04-03T03:05:56.785Z"
   },
   {
    "duration": 25,
    "start_time": "2022-04-03T03:05:56.790Z"
   },
   {
    "duration": 43,
    "start_time": "2022-04-03T03:05:56.817Z"
   },
   {
    "duration": 10,
    "start_time": "2022-04-03T03:05:56.862Z"
   },
   {
    "duration": 8,
    "start_time": "2022-04-03T03:05:56.900Z"
   },
   {
    "duration": 11,
    "start_time": "2022-04-03T03:05:56.910Z"
   },
   {
    "duration": 3,
    "start_time": "2022-04-03T03:05:56.923Z"
   },
   {
    "duration": 9,
    "start_time": "2022-04-03T03:05:56.928Z"
   },
   {
    "duration": 4172,
    "start_time": "2022-04-03T03:05:56.939Z"
   },
   {
    "duration": 14,
    "start_time": "2022-04-03T03:06:01.112Z"
   },
   {
    "duration": 179,
    "start_time": "2022-04-03T03:06:01.130Z"
   },
   {
    "duration": 7,
    "start_time": "2022-04-03T03:06:01.311Z"
   },
   {
    "duration": 24,
    "start_time": "2022-04-03T03:06:01.320Z"
   },
   {
    "duration": 14,
    "start_time": "2022-04-03T03:06:01.346Z"
   },
   {
    "duration": 1553,
    "start_time": "2022-04-03T03:55:56.419Z"
   },
   {
    "duration": 450,
    "start_time": "2022-04-03T03:55:57.974Z"
   },
   {
    "duration": 76,
    "start_time": "2022-04-03T03:55:58.427Z"
   },
   {
    "duration": 17,
    "start_time": "2022-04-03T03:55:58.506Z"
   },
   {
    "duration": 35,
    "start_time": "2022-04-03T03:55:58.525Z"
   },
   {
    "duration": 12,
    "start_time": "2022-04-03T03:55:58.563Z"
   },
   {
    "duration": 7,
    "start_time": "2022-04-03T03:55:58.583Z"
   },
   {
    "duration": 8,
    "start_time": "2022-04-03T03:55:58.592Z"
   },
   {
    "duration": 5,
    "start_time": "2022-04-03T03:55:58.602Z"
   },
   {
    "duration": 11,
    "start_time": "2022-04-03T03:55:58.610Z"
   },
   {
    "duration": 10,
    "start_time": "2022-04-03T03:55:58.623Z"
   },
   {
    "duration": 49,
    "start_time": "2022-04-03T03:55:58.635Z"
   },
   {
    "duration": 12,
    "start_time": "2022-04-03T03:55:58.686Z"
   },
   {
    "duration": 247,
    "start_time": "2022-04-03T03:55:58.700Z"
   },
   {
    "duration": 10,
    "start_time": "2022-04-03T03:55:58.949Z"
   },
   {
    "duration": 26,
    "start_time": "2022-04-03T03:55:58.961Z"
   },
   {
    "duration": 3616,
    "start_time": "2022-04-03T03:55:58.991Z"
   },
   {
    "duration": 5,
    "start_time": "2022-04-03T03:56:02.609Z"
   },
   {
    "duration": 31,
    "start_time": "2022-04-03T03:56:02.617Z"
   },
   {
    "duration": 80,
    "start_time": "2022-04-03T03:56:02.650Z"
   },
   {
    "duration": 15,
    "start_time": "2022-04-03T03:56:02.732Z"
   },
   {
    "duration": 36,
    "start_time": "2022-04-03T03:56:02.750Z"
   },
   {
    "duration": 14,
    "start_time": "2022-04-03T03:56:02.789Z"
   },
   {
    "duration": 4,
    "start_time": "2022-04-03T03:56:02.806Z"
   },
   {
    "duration": 9,
    "start_time": "2022-04-03T03:56:02.813Z"
   },
   {
    "duration": 5376,
    "start_time": "2022-04-03T03:56:02.824Z"
   },
   {
    "duration": 21,
    "start_time": "2022-04-03T03:56:08.203Z"
   },
   {
    "duration": 255,
    "start_time": "2022-04-03T03:56:08.230Z"
   },
   {
    "duration": 11,
    "start_time": "2022-04-03T03:56:08.488Z"
   },
   {
    "duration": 23,
    "start_time": "2022-04-03T03:56:08.502Z"
   },
   {
    "duration": 54,
    "start_time": "2022-04-03T03:56:08.528Z"
   },
   {
    "duration": 14,
    "start_time": "2022-04-03T04:11:36.181Z"
   },
   {
    "duration": 7,
    "start_time": "2022-04-03T04:11:51.097Z"
   },
   {
    "duration": 1548,
    "start_time": "2022-04-03T17:23:15.674Z"
   },
   {
    "duration": 440,
    "start_time": "2022-04-03T17:23:17.224Z"
   },
   {
    "duration": 148,
    "start_time": "2022-04-03T17:23:17.666Z"
   },
   {
    "duration": 12,
    "start_time": "2022-04-03T17:23:17.817Z"
   },
   {
    "duration": 28,
    "start_time": "2022-04-03T17:23:17.831Z"
   },
   {
    "duration": 9,
    "start_time": "2022-04-03T17:23:17.861Z"
   },
   {
    "duration": 7,
    "start_time": "2022-04-03T17:23:17.872Z"
   },
   {
    "duration": 26,
    "start_time": "2022-04-03T17:23:17.880Z"
   },
   {
    "duration": 3,
    "start_time": "2022-04-03T17:23:17.909Z"
   },
   {
    "duration": 9,
    "start_time": "2022-04-03T17:23:17.915Z"
   },
   {
    "duration": 9,
    "start_time": "2022-04-03T17:23:17.926Z"
   },
   {
    "duration": 3,
    "start_time": "2022-04-03T17:23:17.937Z"
   },
   {
    "duration": 8,
    "start_time": "2022-04-03T17:23:17.942Z"
   },
   {
    "duration": 199,
    "start_time": "2022-04-03T17:23:17.952Z"
   },
   {
    "duration": 8,
    "start_time": "2022-04-03T17:23:18.152Z"
   },
   {
    "duration": 5,
    "start_time": "2022-04-03T17:23:18.162Z"
   },
   {
    "duration": 9,
    "start_time": "2022-04-03T17:23:18.168Z"
   },
   {
    "duration": 2780,
    "start_time": "2022-04-03T17:23:18.178Z"
   },
   {
    "duration": 3,
    "start_time": "2022-04-03T17:23:20.961Z"
   },
   {
    "duration": 22,
    "start_time": "2022-04-03T17:23:20.966Z"
   },
   {
    "duration": 56,
    "start_time": "2022-04-03T17:23:21.000Z"
   },
   {
    "duration": 11,
    "start_time": "2022-04-03T17:23:21.059Z"
   },
   {
    "duration": 30,
    "start_time": "2022-04-03T17:23:21.072Z"
   },
   {
    "duration": 10,
    "start_time": "2022-04-03T17:23:21.104Z"
   },
   {
    "duration": 2,
    "start_time": "2022-04-03T17:23:21.116Z"
   },
   {
    "duration": 6,
    "start_time": "2022-04-03T17:23:21.121Z"
   },
   {
    "duration": 6929,
    "start_time": "2022-04-03T17:23:21.130Z"
   },
   {
    "duration": 15,
    "start_time": "2022-04-03T17:23:28.064Z"
   },
   {
    "duration": 171,
    "start_time": "2022-04-03T17:23:28.081Z"
   },
   {
    "duration": 21,
    "start_time": "2022-04-03T17:23:28.254Z"
   },
   {
    "duration": 31,
    "start_time": "2022-04-03T17:23:28.277Z"
   },
   {
    "duration": 7869,
    "start_time": "2022-04-03T17:24:05.298Z"
   },
   {
    "duration": 4506,
    "start_time": "2022-04-03T17:24:23.287Z"
   },
   {
    "duration": 8619,
    "start_time": "2022-04-03T17:24:37.652Z"
   },
   {
    "duration": 8,
    "start_time": "2022-04-03T17:35:13.859Z"
   },
   {
    "duration": 234,
    "start_time": "2022-04-03T17:37:52.150Z"
   },
   {
    "duration": 6,
    "start_time": "2022-04-03T17:38:06.485Z"
   },
   {
    "duration": 594,
    "start_time": "2022-04-03T17:38:06.634Z"
   },
   {
    "duration": 739,
    "start_time": "2022-04-03T17:57:55.033Z"
   },
   {
    "duration": 4,
    "start_time": "2022-04-03T18:07:55.623Z"
   },
   {
    "duration": 238,
    "start_time": "2022-04-03T18:08:03.262Z"
   },
   {
    "duration": 256,
    "start_time": "2022-04-03T18:08:16.415Z"
   },
   {
    "duration": 9,
    "start_time": "2022-04-03T18:14:55.916Z"
   },
   {
    "duration": 11,
    "start_time": "2022-04-03T18:16:16.937Z"
   },
   {
    "duration": 5,
    "start_time": "2022-04-03T18:21:08.919Z"
   },
   {
    "duration": 13,
    "start_time": "2022-04-03T18:21:17.333Z"
   },
   {
    "duration": 3,
    "start_time": "2022-04-03T18:22:05.239Z"
   },
   {
    "duration": 3250,
    "start_time": "2022-04-03T18:23:15.753Z"
   },
   {
    "duration": 1772,
    "start_time": "2022-04-05T04:16:19.237Z"
   },
   {
    "duration": 3622,
    "start_time": "2022-04-05T04:16:21.011Z"
   },
   {
    "duration": 429,
    "start_time": "2022-04-05T04:16:24.635Z"
   },
   {
    "duration": 98,
    "start_time": "2022-04-05T04:16:25.067Z"
   },
   {
    "duration": 5,
    "start_time": "2022-04-05T04:16:25.167Z"
   },
   {
    "duration": 79,
    "start_time": "2022-04-05T04:16:25.174Z"
   },
   {
    "duration": 16,
    "start_time": "2022-04-05T04:16:25.255Z"
   },
   {
    "duration": 40,
    "start_time": "2022-04-05T04:16:25.273Z"
   },
   {
    "duration": 14,
    "start_time": "2022-04-05T04:16:25.315Z"
   },
   {
    "duration": 7,
    "start_time": "2022-04-05T04:16:25.333Z"
   },
   {
    "duration": 36,
    "start_time": "2022-04-05T04:16:25.342Z"
   },
   {
    "duration": 5,
    "start_time": "2022-04-05T04:16:25.381Z"
   },
   {
    "duration": 13,
    "start_time": "2022-04-05T04:16:25.387Z"
   },
   {
    "duration": 14,
    "start_time": "2022-04-05T04:16:25.402Z"
   },
   {
    "duration": 3,
    "start_time": "2022-04-05T04:16:25.418Z"
   },
   {
    "duration": 10,
    "start_time": "2022-04-05T04:16:25.423Z"
   },
   {
    "duration": 262,
    "start_time": "2022-04-05T04:16:25.474Z"
   },
   {
    "duration": 11,
    "start_time": "2022-04-05T04:16:25.738Z"
   },
   {
    "duration": 24,
    "start_time": "2022-04-05T04:16:25.751Z"
   },
   {
    "duration": 8,
    "start_time": "2022-04-05T04:16:25.778Z"
   },
   {
    "duration": 3799,
    "start_time": "2022-04-05T04:16:25.789Z"
   },
   {
    "duration": 5,
    "start_time": "2022-04-05T04:16:29.590Z"
   },
   {
    "duration": 29,
    "start_time": "2022-04-05T04:16:29.597Z"
   },
   {
    "duration": 83,
    "start_time": "2022-04-05T04:16:29.628Z"
   },
   {
    "duration": 13,
    "start_time": "2022-04-05T04:16:29.713Z"
   },
   {
    "duration": 9,
    "start_time": "2022-04-05T04:16:29.728Z"
   },
   {
    "duration": 38,
    "start_time": "2022-04-05T04:16:29.739Z"
   },
   {
    "duration": 4,
    "start_time": "2022-04-05T04:16:29.783Z"
   },
   {
    "duration": 10,
    "start_time": "2022-04-05T04:16:29.790Z"
   },
   {
    "duration": 8153,
    "start_time": "2022-04-05T04:16:29.803Z"
   },
   {
    "duration": 31,
    "start_time": "2022-04-05T04:16:37.959Z"
   },
   {
    "duration": 332,
    "start_time": "2022-04-05T04:16:37.992Z"
   },
   {
    "duration": 11,
    "start_time": "2022-04-05T04:16:38.327Z"
   },
   {
    "duration": 793,
    "start_time": "2022-04-05T04:16:38.341Z"
   },
   {
    "duration": 50,
    "start_time": "2022-04-05T04:16:39.136Z"
   },
   {
    "duration": 722,
    "start_time": "2022-04-05T04:16:39.188Z"
   },
   {
    "duration": 171,
    "start_time": "2022-04-05T04:16:39.912Z"
   },
   {
    "duration": 0,
    "start_time": "2022-04-05T04:16:40.085Z"
   }
  ],
  "kernelspec": {
   "display_name": "Python 3",
   "language": "python",
   "name": "python3"
  },
  "language_info": {
   "codemirror_mode": {
    "name": "ipython",
    "version": 3
   },
   "file_extension": ".py",
   "mimetype": "text/x-python",
   "name": "python",
   "nbconvert_exporter": "python",
   "pygments_lexer": "ipython3",
   "version": "3.8.8"
  },
  "toc": {
   "base_numbering": 1,
   "nav_menu": {},
   "number_sections": true,
   "sideBar": true,
   "skip_h1_title": true,
   "title_cell": "Table of Contents",
   "title_sidebar": "Contents",
   "toc_cell": false,
   "toc_position": {},
   "toc_section_display": true,
   "toc_window_display": false
  }
 },
 "nbformat": 4,
 "nbformat_minor": 5
}
